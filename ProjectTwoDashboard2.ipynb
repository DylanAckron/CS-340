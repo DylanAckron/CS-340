{
 "cells": [
  {
   "cell_type": "code",
   "execution_count": 1,
   "metadata": {
    "scrolled": false
   },
   "outputs": [
    {
     "name": "stdout",
     "output_type": "stream",
     "text": [
      "read method\n"
     ]
    },
    {
     "name": "stderr",
     "output_type": "stream",
     "text": [
      " * Running on http://127.0.0.1:30957/ (Press CTRL+C to quit)\n",
      "127.0.0.1 - - [15/Oct/2024 02:45:20] \"GET /_alive_33485834-a3db-4c02-b9af-8176de84f870 HTTP/1.1\" 200 -\n"
     ]
    },
    {
     "name": "stdout",
     "output_type": "stream",
     "text": [
      "Dash app running on http://127.0.0.1:30957/\n"
     ]
    },
    {
     "name": "stderr",
     "output_type": "stream",
     "text": [
      "127.0.0.1 - - [15/Oct/2024 02:45:25] \"GET / HTTP/1.1\" 200 -\n",
      "127.0.0.1 - - [15/Oct/2024 02:45:27] \"GET /_dash-dependencies HTTP/1.1\" 200 -\n",
      "127.0.0.1 - - [15/Oct/2024 02:45:27] \"GET /_dash-layout HTTP/1.1\" 200 -\n",
      "127.0.0.1 - - [15/Oct/2024 02:45:27] \"GET /_dash-component-suites/dash/dash_table/async-highlight.js HTTP/1.1\" 304 -\n",
      "127.0.0.1 - - [15/Oct/2024 02:45:27] \"GET /_dash-component-suites/dash/dash_table/async-table.js HTTP/1.1\" 304 -\n",
      "127.0.0.1 - - [15/Oct/2024 02:45:27] \"POST /_dash-update-component HTTP/1.1\" 200 -\n"
     ]
    },
    {
     "name": "stdout",
     "output_type": "stream",
     "text": [
      "read method\n"
     ]
    },
    {
     "name": "stderr",
     "output_type": "stream",
     "text": [
      "127.0.0.1 - - [15/Oct/2024 02:45:28] \"POST /_dash-update-component HTTP/1.1\" 200 -\n",
      "127.0.0.1 - - [15/Oct/2024 02:45:28] \"POST /_dash-update-component HTTP/1.1\" 500 -\n",
      "127.0.0.1 - - [15/Oct/2024 02:45:30] \"POST /_dash-update-component HTTP/1.1\" 500 -\n",
      "127.0.0.1 - - [15/Oct/2024 02:45:30] \"POST /_dash-update-component HTTP/1.1\" 200 -\n",
      "127.0.0.1 - - [15/Oct/2024 02:45:30] \"GET /_dash-component-suites/dash/dcc/async-graph.js HTTP/1.1\" 304 -\n",
      "127.0.0.1 - - [15/Oct/2024 02:45:30] \"GET /_dash-component-suites/dash/dcc/async-plotlyjs.js HTTP/1.1\" 304 -\n",
      "127.0.0.1 - - [15/Oct/2024 02:45:34] \"POST /_dash-update-component HTTP/1.1\" 200 -\n",
      "127.0.0.1 - - [15/Oct/2024 02:45:39] \"POST /_dash-update-component HTTP/1.1\" 200 -\n",
      "127.0.0.1 - - [15/Oct/2024 02:45:39] \"POST /_dash-update-component HTTP/1.1\" 200 -\n",
      "127.0.0.1 - - [15/Oct/2024 02:45:39] \"POST /_dash-update-component HTTP/1.1\" 200 -\n"
     ]
    },
    {
     "name": "stdout",
     "output_type": "stream",
     "text": [
      "read method\n"
     ]
    },
    {
     "name": "stderr",
     "output_type": "stream",
     "text": [
      "127.0.0.1 - - [15/Oct/2024 02:45:42] \"POST /_dash-update-component HTTP/1.1\" 200 -\n",
      "127.0.0.1 - - [15/Oct/2024 02:45:42] \"POST /_dash-update-component HTTP/1.1\" 200 -\n",
      "127.0.0.1 - - [15/Oct/2024 02:45:42] \"POST /_dash-update-component HTTP/1.1\" 200 -\n"
     ]
    },
    {
     "name": "stdout",
     "output_type": "stream",
     "text": [
      "read method\n"
     ]
    },
    {
     "name": "stderr",
     "output_type": "stream",
     "text": [
      "127.0.0.1 - - [15/Oct/2024 02:45:43] \"POST /_dash-update-component HTTP/1.1\" 200 -\n",
      "127.0.0.1 - - [15/Oct/2024 02:45:43] \"POST /_dash-update-component HTTP/1.1\" 200 -\n",
      "127.0.0.1 - - [15/Oct/2024 02:45:43] \"POST /_dash-update-component HTTP/1.1\" 200 -\n"
     ]
    },
    {
     "name": "stdout",
     "output_type": "stream",
     "text": [
      "read method\n"
     ]
    },
    {
     "name": "stderr",
     "output_type": "stream",
     "text": [
      "127.0.0.1 - - [15/Oct/2024 02:57:53] \"POST /_dash-update-component HTTP/1.1\" 200 -\n",
      "127.0.0.1 - - [15/Oct/2024 02:57:54] \"POST /_dash-update-component HTTP/1.1\" 200 -\n",
      "127.0.0.1 - - [15/Oct/2024 02:57:55] \"POST /_dash-update-component HTTP/1.1\" 200 -\n",
      "127.0.0.1 - - [15/Oct/2024 02:57:56] \"POST /_dash-update-component HTTP/1.1\" 200 -\n",
      "127.0.0.1 - - [15/Oct/2024 02:58:13] \"POST /_dash-update-component HTTP/1.1\" 500 -\n",
      "127.0.0.1 - - [15/Oct/2024 02:58:14] \"POST /_dash-update-component HTTP/1.1\" 200 -\n",
      "127.0.0.1 - - [15/Oct/2024 02:58:14] \"POST /_dash-update-component HTTP/1.1\" 500 -\n",
      "127.0.0.1 - - [15/Oct/2024 02:58:15] \"POST /_dash-update-component HTTP/1.1\" 200 -\n",
      "127.0.0.1 - - [15/Oct/2024 02:58:16] \"POST /_dash-update-component HTTP/1.1\" 500 -\n",
      "127.0.0.1 - - [15/Oct/2024 02:58:17] \"POST /_dash-update-component HTTP/1.1\" 200 -\n",
      "127.0.0.1 - - [15/Oct/2024 02:58:19] \"POST /_dash-update-component HTTP/1.1\" 200 -\n",
      "127.0.0.1 - - [15/Oct/2024 02:58:22] \"POST /_dash-update-component HTTP/1.1\" 200 -\n",
      "127.0.0.1 - - [15/Oct/2024 02:58:22] \"POST /_dash-update-component HTTP/1.1\" 500 -\n",
      "127.0.0.1 - - [15/Oct/2024 03:06:51] \"POST /_dash-update-component HTTP/1.1\" 200 -\n",
      "127.0.0.1 - - [15/Oct/2024 03:06:51] \"POST /_dash-update-component HTTP/1.1\" 500 -\n",
      "127.0.0.1 - - [15/Oct/2024 03:06:51] \"POST /_dash-update-component HTTP/1.1\" 200 -\n"
     ]
    },
    {
     "name": "stdout",
     "output_type": "stream",
     "text": [
      "read method\n"
     ]
    },
    {
     "name": "stderr",
     "output_type": "stream",
     "text": [
      "127.0.0.1 - - [15/Oct/2024 03:07:53] \"POST /_dash-update-component HTTP/1.1\" 200 -\n",
      "127.0.0.1 - - [15/Oct/2024 03:07:54] \"POST /_dash-update-component HTTP/1.1\" 200 -\n",
      "127.0.0.1 - - [15/Oct/2024 03:07:56] \"POST /_dash-update-component HTTP/1.1\" 200 -\n",
      "127.0.0.1 - - [15/Oct/2024 03:07:57] \"POST /_dash-update-component HTTP/1.1\" 500 -\n",
      "127.0.0.1 - - [15/Oct/2024 03:07:58] \"POST /_dash-update-component HTTP/1.1\" 200 -\n",
      "127.0.0.1 - - [15/Oct/2024 03:08:00] \"POST /_dash-update-component HTTP/1.1\" 200 -\n",
      "127.0.0.1 - - [15/Oct/2024 03:08:01] \"POST /_dash-update-component HTTP/1.1\" 200 -\n",
      "127.0.0.1 - - [15/Oct/2024 03:08:02] \"POST /_dash-update-component HTTP/1.1\" 200 -\n",
      "127.0.0.1 - - [15/Oct/2024 03:08:04] \"POST /_dash-update-component HTTP/1.1\" 200 -\n",
      "127.0.0.1 - - [15/Oct/2024 03:08:04] \"POST /_dash-update-component HTTP/1.1\" 200 -\n",
      "127.0.0.1 - - [15/Oct/2024 03:08:05] \"POST /_dash-update-component HTTP/1.1\" 200 -\n",
      "127.0.0.1 - - [15/Oct/2024 03:08:07] \"POST /_dash-update-component HTTP/1.1\" 200 -\n",
      "127.0.0.1 - - [15/Oct/2024 03:08:07] \"POST /_dash-update-component HTTP/1.1\" 200 -\n",
      "127.0.0.1 - - [15/Oct/2024 03:08:09] \"POST /_dash-update-component HTTP/1.1\" 200 -\n",
      "127.0.0.1 - - [15/Oct/2024 03:08:09] \"POST /_dash-update-component HTTP/1.1\" 200 -\n",
      "127.0.0.1 - - [15/Oct/2024 03:08:09] \"POST /_dash-update-component HTTP/1.1\" 200 -\n",
      "127.0.0.1 - - [15/Oct/2024 03:08:10] \"POST /_dash-update-component HTTP/1.1\" 200 -\n",
      "127.0.0.1 - - [15/Oct/2024 03:08:11] \"POST /_dash-update-component HTTP/1.1\" 500 -\n",
      "127.0.0.1 - - [15/Oct/2024 03:08:13] \"POST /_dash-update-component HTTP/1.1\" 200 -\n",
      "127.0.0.1 - - [15/Oct/2024 03:08:13] \"POST /_dash-update-component HTTP/1.1\" 500 -\n",
      "127.0.0.1 - - [15/Oct/2024 03:08:13] \"POST /_dash-update-component HTTP/1.1\" 200 -\n"
     ]
    },
    {
     "name": "stdout",
     "output_type": "stream",
     "text": [
      "read method\n"
     ]
    },
    {
     "name": "stderr",
     "output_type": "stream",
     "text": [
      "127.0.0.1 - - [15/Oct/2024 03:08:16] \"POST /_dash-update-component HTTP/1.1\" 200 -\n",
      "127.0.0.1 - - [15/Oct/2024 03:08:16] \"POST /_dash-update-component HTTP/1.1\" 500 -\n",
      "127.0.0.1 - - [15/Oct/2024 03:08:16] \"POST /_dash-update-component HTTP/1.1\" 200 -\n"
     ]
    },
    {
     "name": "stdout",
     "output_type": "stream",
     "text": [
      "read method\n"
     ]
    },
    {
     "name": "stderr",
     "output_type": "stream",
     "text": [
      "127.0.0.1 - - [15/Oct/2024 03:08:18] \"POST /_dash-update-component HTTP/1.1\" 200 -\n",
      "127.0.0.1 - - [15/Oct/2024 03:08:19] \"POST /_dash-update-component HTTP/1.1\" 500 -\n",
      "127.0.0.1 - - [15/Oct/2024 03:08:20] \"POST /_dash-update-component HTTP/1.1\" 200 -\n",
      "127.0.0.1 - - [15/Oct/2024 03:08:21] \"POST /_dash-update-component HTTP/1.1\" 500 -\n",
      "127.0.0.1 - - [15/Oct/2024 03:08:21] \"POST /_dash-update-component HTTP/1.1\" 200 -\n",
      "127.0.0.1 - - [15/Oct/2024 03:08:22] \"POST /_dash-update-component HTTP/1.1\" 500 -\n",
      "127.0.0.1 - - [15/Oct/2024 03:08:23] \"POST /_dash-update-component HTTP/1.1\" 200 -\n",
      "127.0.0.1 - - [15/Oct/2024 03:08:23] \"POST /_dash-update-component HTTP/1.1\" 500 -\n",
      "127.0.0.1 - - [15/Oct/2024 03:08:24] \"POST /_dash-update-component HTTP/1.1\" 200 -\n",
      "127.0.0.1 - - [15/Oct/2024 03:08:25] \"POST /_dash-update-component HTTP/1.1\" 500 -\n",
      "127.0.0.1 - - [15/Oct/2024 03:08:25] \"POST /_dash-update-component HTTP/1.1\" 200 -\n"
     ]
    },
    {
     "name": "stdout",
     "output_type": "stream",
     "text": [
      "read method\n"
     ]
    },
    {
     "name": "stderr",
     "output_type": "stream",
     "text": [
      "127.0.0.1 - - [15/Oct/2024 03:08:26] \"POST /_dash-update-component HTTP/1.1\" 200 -\n",
      "127.0.0.1 - - [15/Oct/2024 03:08:28] \"POST /_dash-update-component HTTP/1.1\" 200 -\n",
      "127.0.0.1 - - [15/Oct/2024 03:08:31] \"POST /_dash-update-component HTTP/1.1\" 200 -\n",
      "127.0.0.1 - - [15/Oct/2024 03:08:32] \"POST /_dash-update-component HTTP/1.1\" 500 -\n",
      "127.0.0.1 - - [15/Oct/2024 03:08:32] \"POST /_dash-update-component HTTP/1.1\" 200 -\n"
     ]
    }
   ],
   "source": [
    "from jupyter_dash import JupyterDash\n",
    "\n",
    "import dash\n",
    "import dash_leaflet as dl\n",
    "from dash import dcc\n",
    "from dash import html\n",
    "import plotly.express as px\n",
    "from dash import dash_table as dt\n",
    "from dash.dependencies import Input, Output, State\n",
    "\n",
    "import os\n",
    "import numpy as np\n",
    "import pandas as pd\n",
    "from pymongo import MongoClient\n",
    "from bson.json_util import dumps\n",
    "import base64\n",
    "\n",
    "import AnimalShelter\n",
    "\n",
    "\n",
    "# Importing AnimalShelter class \n",
    "from AnimalShelter import AnimalShelter\n",
    "\n",
    "\n",
    "\n",
    "\n",
    "\n",
    "###########################\n",
    "# Data Manipulation / Model\n",
    "###########################\n",
    "username = \"aacuser\"\n",
    "password = \"SNHU1234\"\n",
    "animals = AnimalShelter(username, password)\n",
    "\n",
    "\n",
    "# class read method must support return of cursor object \n",
    "df = pd.DataFrame.from_records(animals.read({}))\n",
    "\n",
    "\n",
    "\n",
    "#df.drop(columns=['_id'],inplace=True)\n",
    "\n",
    "#########################\n",
    "# Dashboard Layout / View\n",
    "#########################\n",
    "# create dash application\n",
    "\n",
    "\n",
    "app = JupyterDash('Dylan Ackron CS 340')\n",
    "\n",
    "image_filename = 'Grazioso_Salvare_Logo.png' # replace with your own image\n",
    "encoded_image = base64.b64encode(open(image_filename, 'rb').read())\n",
    "                               \n",
    "app.layout = html.Div([\n",
    "    html.Div(id='hidden-div', style={'display':'none'}),\n",
    "    html.Center(html.B(html.H1('Dylan Ackron Project 2 Dashboard'))),\n",
    "    html.Hr(),\n",
    "    html.Center(\n",
    "        html.Img(src='data:image/png;base64,{}'.format(encoded_image.decode()))),\n",
    "    html.Div(      \n",
    "        dcc.RadioItems(\n",
    "            id='filter-type',\n",
    "            options=[\n",
    "                {'label': 'Water Rescue', 'value': 'water'},\n",
    "                {'label': 'Mountain/Wilderness Rescue', 'value': 'mount'},\n",
    "                {'label': 'Disaster Rescue and Individual Tracking', 'value': 'disaster'},\n",
    "                {'label': 'Reset', 'value': 'reset'}\n",
    "            ],\n",
    "            value='reset'\n",
    "        )\n",
    "        \n",
    "    ),\n",
    "    html.Hr(),\n",
    "    dt.DataTable(\n",
    "        id='datatable-id',\n",
    "        columns=[\n",
    "            {\"name\": i, \"id\": i, \"deletable\": False, \"selectable\": True} for i in df.columns\n",
    "        ],\n",
    "        data=df.to_dict('records'),\n",
    "        # Allows 10 rows per page, and starts on page 0. Columns and Rows may be selected but not deleted/edited\n",
    "        editable=False,\n",
    "        sort_action=\"native\",\n",
    "        sort_mode=\"multi\",\n",
    "        column_selectable=True,\n",
    "        row_selectable=True,\n",
    "        row_deletable=False,\n",
    "        selected_columns=[],\n",
    "        selected_rows=[0],\n",
    "        page_action=\"native\",\n",
    "        page_current= 0,\n",
    "        page_size= 10,\n",
    "    ),\n",
    "    html.Br(),\n",
    "    html.Hr(),\n",
    "#This sets up the dashboard so that your chart and your geolocation chart are side-by-side\n",
    "    html.Div(className='row',\n",
    "         style={'display' : 'flex'},\n",
    "             children=[\n",
    "        html.Div(\n",
    "            id='graph-id',\n",
    "            className='col s12 m6',\n",
    "\n",
    "            ),\n",
    "        html.Div(\n",
    "            id='map-id',\n",
    "            className='col s12 m6',\n",
    "            )\n",
    "        ])\n",
    "])\n",
    "\n",
    "#############################################\n",
    "# Interaction Between Components / Controller\n",
    "#############################################\n",
    "\n",
    "\n",
    "\n",
    "# Radio button filters\n",
    "@app.callback([Output('datatable-id','data'),\n",
    "               Output('datatable-id','columns')],\n",
    "              [Input('filter-type', 'value')])\n",
    "def update_dashboard(filter_type):\n",
    "       \n",
    "        if filter_type == 'water':\n",
    "            df = pd.DataFrame.from_records(animals.read({\n",
    "                \"animal_type\": \"Dog\",\n",
    "                \"breed\": {\"$in\": [\"Labrador Retriever Mix\",\"Chesapeake Bay Retriever\", \"Newfoundland\"\n",
    "                                 ]},\n",
    "                \"sex_upon_outcome\": \"Intact Female\",\n",
    "                \"age_upon_outcome_in_weeks\": {\"$gte\":26.0, \"$lte\":156.0}\n",
    "            }))\n",
    "       \n",
    "        elif filter_type == 'mount':\n",
    "            df = pd.DataFrame.from_records(animals.read({\n",
    "                \"animal_type\": \"Dog\",\n",
    "                \"breed\": {\"$in\": [\"German Shepard\",\"Alaskan Malamute\",\"Old English Sheepdog\", \n",
    "                                  \"Siberian Husky\", \"Rottweiler\"\n",
    "                                 ]},\n",
    "                \"sex_upon_outcome\": \"Intact Male\",\n",
    "                \"age_upon_outcome_in_weeks\": {\"$gte\":26.0, \"$lte\":156.0}\n",
    "            }))\n",
    "            \n",
    "       \n",
    "        elif filter_type == 'disaster':\n",
    "            df = pd.DataFrame.from_records(animals.read({\n",
    "                \"animal_type\": \"Dog\",\n",
    "                \"breed\": {\"$in\": [\"Doberman Pinscher\",\"German Shepard\",\"Golden Retriever\", \n",
    "                                  \"Bloodhound\",\"Rottweiler\"\n",
    "                                 ]},\n",
    "                \"sex_upon_outcome\": \"Intact Male\",\n",
    "                \"age_upon_outcome_in_weeks\": {\"$gte\":20.0, \"$lte\":300.0}\n",
    "            }))\n",
    "            \n",
    "        # Reset to no filter\n",
    "        else:\n",
    "            df = pd.DataFrame.from_records(animals.read({}))\n",
    "        \n",
    "        columns=[{\"name\": i, \"id\": i, \"deletable\": False, \"selectable\": True} for i in df.columns]\n",
    "        data=df.to_dict('records')\n",
    "        \n",
    "        \n",
    "        return (data,columns)\n",
    "\n",
    "# Change background color of selected columns\n",
    "@app.callback(\n",
    "    Output('datatable-id', 'style_data_conditional'),\n",
    "    [Input('datatable-id', 'selected_columns')]\n",
    ")\n",
    "def update_styles(selected_columns):\n",
    "    return [{\n",
    "        'if': { 'column_id': i },\n",
    "        'background_color': '#D2F3FF'\n",
    "    } for i in selected_columns]\n",
    "\n",
    "# Chart\n",
    "@app.callback(\n",
    "    Output('graph-id', \"children\"),\n",
    "    [Input('datatable-id', \"derived_viewport_data\"),\n",
    "     #Input('filter-type', 'value')\n",
    "    ])\n",
    "def update_graphs(viewData):\n",
    "    ###FIX ME ####\n",
    "    # add code for chart of your choice (e.g. pie chart) #\n",
    "    dff = pd.DataFrame.from_dict(viewData)\n",
    "   \n",
    "    names = dff['breed'].value_counts().keys().tolist()\n",
    "    values = dff['breed'].value_counts().tolist()\n",
    "    \n",
    "    return [\n",
    "        dcc.Graph(            \n",
    "            figure = px.pie(\n",
    "                data_frame=dff, \n",
    "                values = values, \n",
    "                names = names, \n",
    "                color_discrete_sequence=px.colors.sequential.RdBu,\n",
    "                width=800, \n",
    "                height=500   \n",
    "            )\n",
    "        )\n",
    "    ]\n",
    "\n",
    "# Map\n",
    "@app.callback(\n",
    "    Output('map-id', \"children\"),\n",
    "    [Input('datatable-id', \"derived_viewport_data\"),\n",
    "     Input('datatable-id', 'derived_viewport_selected_rows')])\n",
    "def update_map(viewData, row_ids):\n",
    "    dff = pd.DataFrame.from_dict(viewData)\n",
    "    # Sets first num in row_ids array to the last selected row ID\n",
    "    row_ids[0] = row_ids[len(row_ids) - 1]\n",
    "    return [\n",
    "        # row_ids[0] gets last selected row from DataTable and parameters 13 and 14 are long and lat of rows\n",
    "        dl.Map(style={'width': '1000px', 'height': '500px'}, center=[dff.iloc[row_ids[0],13],dff.iloc[row_ids[0],14]], zoom=10, children=[\n",
    "            dl.TileLayer(id=\"base-layer-id\"),\n",
    "            # Marker with tool tip and popup\n",
    "            dl.Marker(position=[dff.iloc[row_ids[0],13],dff.iloc[row_ids[0],14]], children=[\n",
    "                # parameter num 4 gives the breed of animal\n",
    "                dl.Tooltip(dff.iloc[row_ids[0],4]),\n",
    "                dl.Popup([\n",
    "                    html.H1(\"Animal Name\"),\n",
    "                    # parameter 9 gives animal's name\n",
    "                    html.P(dff.iloc[row_ids[0],9])\n",
    "                ])\n",
    "            ])\n",
    "        ])\n",
    "    ]\n",
    "\n",
    "\n",
    "if __name__ == '__main__':\n",
    "    app.run_server(debug=False)"
   ]
  },
  {
   "cell_type": "code",
   "execution_count": null,
   "metadata": {},
   "outputs": [],
   "source": []
  },
  {
   "cell_type": "markdown",
   "metadata": {},
   "source": []
  },
  {
   "cell_type": "code",
   "execution_count": null,
   "metadata": {},
   "outputs": [],
   "source": []
  },
  {
   "cell_type": "code",
   "execution_count": null,
   "metadata": {},
   "outputs": [],
   "source": []
  }
 ],
 "metadata": {
  "kernelspec": {
   "display_name": "Python 3 (ipykernel)",
   "language": "python",
   "name": "python3"
  },
  "language_info": {
   "codemirror_mode": {
    "name": "ipython",
    "version": 3
   },
   "file_extension": ".py",
   "mimetype": "text/x-python",
   "name": "python",
   "nbconvert_exporter": "python",
   "pygments_lexer": "ipython3",
   "version": "3.9.12"
  }
 },
 "nbformat": 4,
 "nbformat_minor": 2
}
